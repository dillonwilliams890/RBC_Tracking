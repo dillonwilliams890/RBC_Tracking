{
 "cells": [
  {
   "cell_type": "code",
   "execution_count": null,
   "metadata": {},
   "outputs": [
    {
     "name": "stdout",
     "output_type": "stream",
     "text": [
      "WARNING:tensorflow:From c:\\Users\\will6605\\Documents\\vscode\\.venv\\lib\\site-packages\\keras\\src\\losses.py:2976: The name tf.losses.sparse_softmax_cross_entropy is deprecated. Please use tf.compat.v1.losses.sparse_softmax_cross_entropy instead.\n",
      "\n"
     ]
    }
   ],
   "source": [
    "from track_utils20x import *"
   ]
  },
  {
   "cell_type": "code",
   "execution_count": null,
   "metadata": {},
   "outputs": [],
   "source": [
    "with h5py.File('E:/Tracking/Videos/20240722_CHC004_0_8.h5', 'r') as hf:\n",
    "    video = hf['data'][:]"
   ]
  },
  {
   "cell_type": "code",
   "execution_count": null,
   "metadata": {},
   "outputs": [],
   "source": [
    "veiw(video)"
   ]
  },
  {
   "cell_type": "code",
   "execution_count": null,
   "metadata": {},
   "outputs": [],
   "source": [
    "imgs, saturations, volumes, x, hbmass = main_run(video)"
   ]
  },
  {
   "cell_type": "code",
   "execution_count": null,
   "metadata": {},
   "outputs": [],
   "source": [
    "preds=CNN(imgs)"
   ]
  },
  {
   "cell_type": "code",
   "execution_count": null,
   "metadata": {},
   "outputs": [],
   "source": [
    "sat=np.stack( saturations, axis=0 )\n",
    "sat[(sat > 1) | (sat < 0)] = np.nan\n",
    "vols=np.stack( volumes, axis=0 )\n",
    "vols[(vols > 200) | (vols < 0)] = np.nan\n",
    "hgb=np.stack( hbmass, axis=0 )\n",
    "hgb[(hgb > 1) | (hgb < 0)] = np.nan\n",
    "chcm=10000*hgb/vols\n",
    "t=np.linspace(1,len(saturations), len(saturations))\n",
    "sns.lineplot(y=chcm, x=t)\n",
    "d = {'time': t, 'sat': sat, 'preds': preds, 'volumes': vols, 'mch': hgb, 'chcm' :chcm}\n",
    "sat_df = pd.DataFrame(data=d)\n",
    "satna_df=sat_df.dropna()\n",
    "satna_df['sat_mean']=satna_df['sat'].rolling(window=5).mean() \n",
    "satna_df['preds_mean']=satna_df['preds'].rolling(window=5).mean() \n",
    "fig, ax = plt.subplots()\n",
    "\n",
    "sns.lineplot(data=satna_df, x='time', y='preds_mean', ax=ax)\n",
    "sns.lineplot(data=satna_df, x='time', y='sat_mean', ax=ax)\n",
    "ax.set_ylim(0, 1)\n",
    "plt.show()"
   ]
  },
  {
   "cell_type": "code",
   "execution_count": null,
   "metadata": {},
   "outputs": [],
   "source": [
    "satna_df.to_clipboard(sep=',') "
   ]
  }
 ],
 "metadata": {
  "kernelspec": {
   "display_name": ".tf",
   "language": "python",
   "name": "python3"
  },
  "language_info": {
   "name": "python",
   "version": "3.9.13"
  }
 },
 "nbformat": 4,
 "nbformat_minor": 2
}
